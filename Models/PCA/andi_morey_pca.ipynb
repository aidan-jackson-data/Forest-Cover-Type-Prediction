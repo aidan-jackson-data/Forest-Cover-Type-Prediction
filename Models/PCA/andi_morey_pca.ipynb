{
 "cells": [
  {
   "cell_type": "code",
   "execution_count": 1,
   "metadata": {},
   "outputs": [],
   "source": [
    "# This tells matplotlib not to try opening a new window for each plot.\n",
    "%matplotlib inline\n",
    "\n",
    "# General libraries\n",
    "import time\n",
    "import pandas as pd\n",
    "import re\n",
    "import numpy as np\n",
    "import matplotlib.pyplot as plt\n",
    "import seaborn as sns\n",
    "from matplotlib.ticker import MultipleLocator\n",
    "\n",
    "# SK-learn libraries for learning.\n",
    "from sklearn.pipeline import Pipeline\n",
    "from sklearn.neighbors import KNeighborsClassifier\n",
    "from sklearn.linear_model import LogisticRegression\n",
    "from sklearn.naive_bayes import BernoulliNB\n",
    "from sklearn.naive_bayes import MultinomialNB\n",
    "\n",
    "# SK-learn libraries for evaluation.\n",
    "from sklearn.metrics import confusion_matrix\n",
    "from sklearn import metrics\n",
    "from sklearn.metrics import classification_report\n",
    "\n",
    "# SK-learn libraries for feature extraction from text.\n",
    "from sklearn.feature_extraction.text import *\n",
    "\n",
    "from sklearn.ensemble import ExtraTreesClassifier\n",
    "from sklearn.model_selection import GridSearchCV\n",
    "from sklearn.metrics import plot_confusion_matrix\n",
    "from sklearn.model_selection import cross_val_score\n",
    "\n",
    "import nltk\n",
    "\n",
    "# Set the randomizer seed so results are the same each time.\n",
    "np.random.seed(0)\n",
    "\n",
    "data = pd.read_csv(r\"../../data/covtype.csv\")\n",
    "train_df = pd.read_csv(r\"../../data/train.csv\")\n",
    "test_df = pd.read_csv(r\"../../data/test.csv\")\n",
    "\n",
    "### Feature Engineering\n",
    "# Drop \"ID\"\n",
    "train_df = train_df.drop(columns=[\"Id\"])\n",
    "\n",
    "# Create Labels DF\n",
    "train_labels_df = train_df[[\"Cover_Type\"]]\n",
    "\n",
    "# Drop Labels\n",
    "train_df = train_df.drop(columns=[\"Cover_Type\"])\n",
    "\n",
    "# Build the np arrays\n",
    "train_data = train_df.to_numpy()\n",
    "test_data = test_df.drop(columns=[\"Id\"]).to_numpy()\n",
    "train_labels = train_labels_df.to_numpy().ravel()\n",
    "\n",
    "# Shuffle the input\n",
    "shuffle = np.random.permutation(np.arange(train_data.shape[0]))\n",
    "train_data, train_labels = train_data[shuffle], train_labels[shuffle]\n",
    "\n",
    "# Set some variables to hold dev, and training data.\n",
    "dev_data, dev_labels = train_data[14000:], train_labels[14000:]\n",
    "train_data, train_labels = train_data[:14000], train_labels[:14000]"
   ]
  },
  {
   "cell_type": "markdown",
   "metadata": {},
   "source": [
    "## PCA"
   ]
  },
  {
   "cell_type": "code",
   "execution_count": 2,
   "metadata": {},
   "outputs": [
    {
     "name": "stdout",
     "output_type": "stream",
     "text": [
      "[0.7218959054455099, 0.9477491367462696, 0.9835319135851278, 0.9946008057018806, 0.9987227195142865, 0.9999996066709803, 0.99999988079987, 0.999999968812523, 0.9999999966860198, 0.9999999999999999]\n"
     ]
    },
    {
     "data": {
      "image/png": "[encoded data removed]",
      "text/plain": [
       "<Figure size 576x360 with 1 Axes>"
      ]
     },
     "metadata": {
      "needs_background": "light"
     },
     "output_type": "display_data"
    },
    {
     "data": {
      "image/png": "[encoded data removed]",
      "text/plain": [
       "<Figure size 720x576 with 1 Axes>"
      ]
     },
     "metadata": {
      "needs_background": "light"
     },
     "output_type": "display_data"
    },
    {
     "name": "stdout",
     "output_type": "stream",
     "text": [
      "Top 10 features and their loading score influced on PC1:\n",
      "--------------------------------------------------------\n",
      "Horizontal_Distance_To_Roadways       0.812699\n",
      "Horizontal_Distance_To_Fire_Points    0.554671\n",
      "Elevation                             0.175417\n",
      "Horizontal_Distance_To_Hydrology      0.032411\n",
      "Hillshade_3pm                         0.004436\n",
      "Hillshade_Noon                        0.003504\n",
      "Aspect                                0.002003\n",
      "Slope                                -0.001723\n",
      "Hillshade_9am                         0.000678\n",
      "Vertical_Distance_To_Hydrology        0.000557\n",
      "dtype: float64\n"
     ]
    }
   ],
   "source": [
    "from sklearn.decomposition import PCA\n",
    "\n",
    "def do_pca (t_data, n, k_principal_components):\n",
    "    # Use PCA from sklearn and set number of components to the shape of the train_data feature size\n",
    "    # Fit to the Train Data and get the variance ratio\n",
    "    pca = PCA(n_components=n)\n",
    "    pca.fit(t_data)\n",
    "    explained_variance_ratio = pca.explained_variance_ratio_\n",
    "\n",
    "    # Find only the prinicpal_components ratios\n",
    "    total_variance = []\n",
    "    for k in k_principal_components:\n",
    "        total_variance_ratio = sum(explained_variance_ratio[0:k])\n",
    "        total_variance.append(total_variance_ratio)\n",
    "\n",
    "    print(total_variance)\n",
    "\n",
    "    #Plot the total variance vs. number of principal components,\n",
    "    fig = plt.figure(figsize=(8, 5))\n",
    "    ax = fig.add_subplot(1, 1, 1)\n",
    "    plt.plot(k_principal_components,total_variance)\n",
    "    plt.ylabel(\"Fraction of Total Variance\")\n",
    "    plt.xlabel(\"Number of Principal Components\")\n",
    "    plt.title(\"Total Variance vs. Num of Principal Components\")\n",
    "    plt.show()  \n",
    "\n",
    "\n",
    "    ##########################\n",
    "    # Draw a scree plot\n",
    "    #########################\n",
    "\n",
    "    #The following code constructs the Scree plot\n",
    "    per_var = np.round(pca.explained_variance_ratio_* 100, decimals=1)\n",
    "    per_var = per_var[per_var > 2]\n",
    "    labels = ['PC' + str(x) for x in range(1, len(per_var)+1)]\n",
    "\n",
    "    fig = plt.figure(figsize=(10,8))\n",
    "    plt.bar(x=range(1,len(per_var)+1), height=per_var, tick_label=labels)\n",
    "    plt.ylabel('Percentage of Explained Variance')\n",
    "    plt.xlabel('Principal Component')\n",
    "    plt.title('Scree Plot of PCs with 2% or more Explained Variance')\n",
    "    plt.show()\n",
    "\n",
    "    #########################\n",
    "    # Determine which feature had the biggest influence on PC1\n",
    "    #########################\n",
    "    ## first, get the loading scores\n",
    "    loading_scores = pd.Series(pca.components_[0], index=train_df.columns)\n",
    "    ## now sort the loading scores based on their magnitude\n",
    "    sorted_loading_scores = loading_scores.abs().sort_values(ascending=False)\n",
    "    ## get the names of the top 10 features\n",
    "    top_10 = sorted_loading_scores[0:10].index.values\n",
    "    ## print the gene names and their scores (and +/- sign)\n",
    "    print(\"Top 10 features and their loading score influced on PC1:\")\n",
    "    print(\"--------------------------------------------------------\")\n",
    "    print(loading_scores[top_10])\n",
    "\n",
    "    return\n",
    "\n",
    "def print_importances(clf):\n",
    "    importances = np.round(clf.feature_importances_,4)\n",
    "    features = train_df.columns.to_numpy()\n",
    "    importances_df = pd.DataFrame({'feature':features,'importance':importances})\n",
    "    importances_df = importances_df.sort_values('importance',ascending=False)\n",
    "    importances_df = importances_df[(importances_df.sum(axis=1) != 0)]  \n",
    "    print(importances_df)\n",
    "\n",
    "do_pca(train_data, 54, k_principal_components = [1,2,3,4,5,10,20,30,40,50])\n"
   ]
  },
  {
   "cell_type": "markdown",
   "metadata": {},
   "source": [
    "### Feature Engineering"
   ]
  },
  {
   "cell_type": "code",
   "execution_count": 3,
   "metadata": {},
   "outputs": [],
   "source": [
    "data = pd.read_csv(r\"../../data/covtype.csv\")\n",
    "train_df = pd.read_csv(r\"../../data/train.csv\")\n",
    "test_df = pd.read_csv(r\"../../data/test.csv\")\n",
    "\n",
    "### Feature Engineering\n",
    "# Drop \"ID\"\n",
    "train_df = train_df.drop(columns=[\"Id\"])\n",
    "\n",
    "# Create Labels DF\n",
    "train_labels_df = train_df[[\"Cover_Type\"]]\n",
    "\n",
    "# write labels to csv\n",
    "train_labels_df.to_csv(\"train_labels.csv\", index = False)\n",
    "\n",
    "# Drop Labels\n",
    "train_df = train_df.drop(columns=[\"Cover_Type\"])"
   ]
  },
  {
   "cell_type": "code",
   "execution_count": 4,
   "metadata": {},
   "outputs": [
    {
     "name": "stdout",
     "output_type": "stream",
     "text": [
      "Converted soil types and wilderness areas\n"
     ]
    }
   ],
   "source": [
    "def convert_soil_types_to_categorical(df):\n",
    "\n",
    "    df[\"SoilType\"] = 0\n",
    "    columns = list(df)\n",
    "\n",
    "    for col_name in columns:\n",
    "        soil_type = 0\n",
    "        if col_name[0:9] == 'Soil_Type':\n",
    "            soil_type = int(col_name[9:])\n",
    "            df[\"SoilType\"] = df[\"SoilType\"] + df[col_name]*soil_type\n",
    "            df = df.drop(columns=[col_name])\n",
    "            \n",
    "    return df          \n",
    "            \n",
    "def convert_wilderness_areas_to_categorical(df):\n",
    "\n",
    "    df[\"WildernessArea\"] = 0\n",
    "    columns = list(df)\n",
    "\n",
    "    for col_name in columns:\n",
    "        wild_area = 0\n",
    "        if col_name[0:15] == 'Wilderness_Area':\n",
    "            wild_area = int(col_name[15:])\n",
    "            df[\"WildernessArea\"] = df[\"WildernessArea\"] + df[col_name]*wild_area\n",
    "\n",
    "    for col_name in columns:\n",
    "        if col_name[0:15] == 'Wilderness_Area':\n",
    "            df = df.drop(columns=[col_name])\n",
    "\n",
    "    return df\n",
    "\n",
    "train_df = convert_soil_types_to_categorical(train_df)\n",
    "test_df = convert_soil_types_to_categorical(test_df)\n",
    "\n",
    "train_df = convert_wilderness_areas_to_categorical(train_df)\n",
    "test_df = convert_wilderness_areas_to_categorical(test_df)\n",
    "\n",
    "train_df.to_csv(\"soil_wild_convert_train.csv\", index = False)\n",
    "test_df.to_csv(\"soil_wild_convert_test.csv\", index = False)\n",
    "\n",
    "print(\"Converted soil types and wilderness areas\")"
   ]
  },
  {
   "cell_type": "code",
   "execution_count": 5,
   "metadata": {},
   "outputs": [
    {
     "name": "stdout",
     "output_type": "stream",
     "text": [
      "Converted Hillshade to average\n"
     ]
    }
   ],
   "source": [
    "train_df = pd.read_csv(r\"soil_wild_convert_train.csv\")\n",
    "test_df = pd.read_csv(r\"soil_wild_convert_test.csv\")\n",
    "\n",
    "train_df['Average_Hillshade'] = abs((train_df['Hillshade_9am']+train_df['Hillshade_Noon']+train_df['Hillshade_3pm'])/3)\n",
    "test_df['Average_Hillshade'] = abs((test_df['Hillshade_9am']+test_df['Hillshade_Noon']+test_df['Hillshade_3pm'])/3)\n",
    "\n",
    "train_df = train_df.drop(columns=[\"Hillshade_9am\"])\n",
    "train_df = train_df.drop(columns=[\"Hillshade_Noon\"])\n",
    "train_df = train_df.drop(columns=[\"Hillshade_3pm\"])\n",
    "test_df = test_df.drop(columns=[\"Hillshade_9am\"])\n",
    "test_df = test_df.drop(columns=[\"Hillshade_Noon\"])\n",
    "test_df = test_df.drop(columns=[\"Hillshade_3pm\"])\n",
    "\n",
    "train_df.to_csv(\"hillshade_avg_convert_train.csv\", index = False)\n",
    "test_df.to_csv(\"hillshade_avg_convert_test.csv\", index = False)\n",
    "\n",
    "print(\"Converted Hillshade to average\")"
   ]
  },
  {
   "cell_type": "code",
   "execution_count": 6,
   "metadata": {},
   "outputs": [
    {
     "name": "stdout",
     "output_type": "stream",
     "text": [
      "Converted Distance to Hydrology\n"
     ]
    }
   ],
   "source": [
    "train_df = pd.read_csv(r\"hillshade_avg_convert_train.csv\")\n",
    "test_df = pd.read_csv(r\"hillshade_avg_convert_test.csv\")\n",
    "\n",
    "train_df['Total_Distance_to_Hydrology'] = (train_df['Horizontal_Distance_To_Hydrology']**2 + \n",
    "                                           train_df['Vertical_Distance_To_Hydrology']**2)**0.5\n",
    "test_df['Total_Distance_to_Hydrology'] = (test_df['Horizontal_Distance_To_Hydrology']**2 + \n",
    "                                          test_df['Vertical_Distance_To_Hydrology']**2)**0.5\n",
    "\n",
    "train_df = train_df.drop(columns=[\"Horizontal_Distance_To_Hydrology\"])\n",
    "train_df = train_df.drop(columns=[\"Vertical_Distance_To_Hydrology\"])\n",
    "test_df = test_df.drop(columns=[\"Horizontal_Distance_To_Hydrology\"])\n",
    "test_df = test_df.drop(columns=[\"Vertical_Distance_To_Hydrology\"])\n",
    "\n",
    "train_df.to_csv(\"total_distance_convert_train.csv\", index = False)\n",
    "test_df.to_csv(\"total_distance_convert_test.csv\", index = False)\n",
    "\n",
    "print(\"Converted Distance to Hydrology\")"
   ]
  },
  {
   "cell_type": "code",
   "execution_count": 7,
   "metadata": {},
   "outputs": [
    {
     "data": {
      "text/html": [
       "<div>\n",
       "<style scoped>\n",
       "    .dataframe tbody tr th:only-of-type {\n",
       "        vertical-align: middle;\n",
       "    }\n",
       "\n",
       "    .dataframe tbody tr th {\n",
       "        vertical-align: top;\n",
       "    }\n",
       "\n",
       "    .dataframe thead th {\n",
       "        text-align: right;\n",
       "    }\n",
       "</style>\n",
       "<table border=\"1\" class=\"dataframe\">\n",
       "  <thead>\n",
       "    <tr style=\"text-align: right;\">\n",
       "      <th></th>\n",
       "      <th>Elevation</th>\n",
       "      <th>Aspect</th>\n",
       "      <th>Slope</th>\n",
       "      <th>Horizontal_Distance_To_Roadways</th>\n",
       "      <th>Horizontal_Distance_To_Fire_Points</th>\n",
       "      <th>SoilType</th>\n",
       "      <th>WildernessArea</th>\n",
       "      <th>Average_Hillshade</th>\n",
       "      <th>Total_Distance_to_Hydrology</th>\n",
       "    </tr>\n",
       "  </thead>\n",
       "  <tbody>\n",
       "    <tr>\n",
       "      <th>0</th>\n",
       "      <td>2596</td>\n",
       "      <td>51</td>\n",
       "      <td>3</td>\n",
       "      <td>510</td>\n",
       "      <td>6279</td>\n",
       "      <td>29</td>\n",
       "      <td>1</td>\n",
       "      <td>200.333333</td>\n",
       "      <td>258.000000</td>\n",
       "    </tr>\n",
       "    <tr>\n",
       "      <th>1</th>\n",
       "      <td>2590</td>\n",
       "      <td>56</td>\n",
       "      <td>2</td>\n",
       "      <td>390</td>\n",
       "      <td>6225</td>\n",
       "      <td>29</td>\n",
       "      <td>1</td>\n",
       "      <td>202.000000</td>\n",
       "      <td>212.084889</td>\n",
       "    </tr>\n",
       "    <tr>\n",
       "      <th>2</th>\n",
       "      <td>2804</td>\n",
       "      <td>139</td>\n",
       "      <td>9</td>\n",
       "      <td>3180</td>\n",
       "      <td>6121</td>\n",
       "      <td>12</td>\n",
       "      <td>1</td>\n",
       "      <td>202.333333</td>\n",
       "      <td>275.769832</td>\n",
       "    </tr>\n",
       "    <tr>\n",
       "      <th>3</th>\n",
       "      <td>2785</td>\n",
       "      <td>155</td>\n",
       "      <td>18</td>\n",
       "      <td>3090</td>\n",
       "      <td>6211</td>\n",
       "      <td>30</td>\n",
       "      <td>1</td>\n",
       "      <td>199.333333</td>\n",
       "      <td>269.235956</td>\n",
       "    </tr>\n",
       "    <tr>\n",
       "      <th>4</th>\n",
       "      <td>2595</td>\n",
       "      <td>45</td>\n",
       "      <td>2</td>\n",
       "      <td>391</td>\n",
       "      <td>6172</td>\n",
       "      <td>29</td>\n",
       "      <td>1</td>\n",
       "      <td>201.333333</td>\n",
       "      <td>153.003268</td>\n",
       "    </tr>\n",
       "    <tr>\n",
       "      <th>...</th>\n",
       "      <td>...</td>\n",
       "      <td>...</td>\n",
       "      <td>...</td>\n",
       "      <td>...</td>\n",
       "      <td>...</td>\n",
       "      <td>...</td>\n",
       "      <td>...</td>\n",
       "      <td>...</td>\n",
       "      <td>...</td>\n",
       "    </tr>\n",
       "    <tr>\n",
       "      <th>15115</th>\n",
       "      <td>2607</td>\n",
       "      <td>243</td>\n",
       "      <td>23</td>\n",
       "      <td>660</td>\n",
       "      <td>1282</td>\n",
       "      <td>4</td>\n",
       "      <td>3</td>\n",
       "      <td>211.666667</td>\n",
       "      <td>258.094944</td>\n",
       "    </tr>\n",
       "    <tr>\n",
       "      <th>15116</th>\n",
       "      <td>2603</td>\n",
       "      <td>121</td>\n",
       "      <td>19</td>\n",
       "      <td>618</td>\n",
       "      <td>1325</td>\n",
       "      <td>4</td>\n",
       "      <td>3</td>\n",
       "      <td>187.000000</td>\n",
       "      <td>662.354890</td>\n",
       "    </tr>\n",
       "    <tr>\n",
       "      <th>15117</th>\n",
       "      <td>2492</td>\n",
       "      <td>134</td>\n",
       "      <td>25</td>\n",
       "      <td>335</td>\n",
       "      <td>1187</td>\n",
       "      <td>4</td>\n",
       "      <td>3</td>\n",
       "      <td>184.333333</td>\n",
       "      <td>383.293621</td>\n",
       "    </tr>\n",
       "    <tr>\n",
       "      <th>15118</th>\n",
       "      <td>2487</td>\n",
       "      <td>167</td>\n",
       "      <td>28</td>\n",
       "      <td>242</td>\n",
       "      <td>932</td>\n",
       "      <td>4</td>\n",
       "      <td>3</td>\n",
       "      <td>195.000000</td>\n",
       "      <td>240.260276</td>\n",
       "    </tr>\n",
       "    <tr>\n",
       "      <th>15119</th>\n",
       "      <td>2475</td>\n",
       "      <td>197</td>\n",
       "      <td>34</td>\n",
       "      <td>270</td>\n",
       "      <td>914</td>\n",
       "      <td>2</td>\n",
       "      <td>3</td>\n",
       "      <td>199.000000</td>\n",
       "      <td>328.397625</td>\n",
       "    </tr>\n",
       "  </tbody>\n",
       "</table>\n",
       "<p>15120 rows × 9 columns</p>\n",
       "</div>"
      ],
      "text/plain": [
       "       Elevation  Aspect  Slope  Horizontal_Distance_To_Roadways  \\\n",
       "0           2596      51      3                              510   \n",
       "1           2590      56      2                              390   \n",
       "2           2804     139      9                             3180   \n",
       "3           2785     155     18                             3090   \n",
       "4           2595      45      2                              391   \n",
       "...          ...     ...    ...                              ...   \n",
       "15115       2607     243     23                              660   \n",
       "15116       2603     121     19                              618   \n",
       "15117       2492     134     25                              335   \n",
       "15118       2487     167     28                              242   \n",
       "15119       2475     197     34                              270   \n",
       "\n",
       "       Horizontal_Distance_To_Fire_Points  SoilType  WildernessArea  \\\n",
       "0                                    6279        29               1   \n",
       "1                                    6225        29               1   \n",
       "2                                    6121        12               1   \n",
       "3                                    6211        30               1   \n",
       "4                                    6172        29               1   \n",
       "...                                   ...       ...             ...   \n",
       "15115                                1282         4               3   \n",
       "15116                                1325         4               3   \n",
       "15117                                1187         4               3   \n",
       "15118                                 932         4               3   \n",
       "15119                                 914         2               3   \n",
       "\n",
       "       Average_Hillshade  Total_Distance_to_Hydrology  \n",
       "0             200.333333                   258.000000  \n",
       "1             202.000000                   212.084889  \n",
       "2             202.333333                   275.769832  \n",
       "3             199.333333                   269.235956  \n",
       "4             201.333333                   153.003268  \n",
       "...                  ...                          ...  \n",
       "15115         211.666667                   258.094944  \n",
       "15116         187.000000                   662.354890  \n",
       "15117         184.333333                   383.293621  \n",
       "15118         195.000000                   240.260276  \n",
       "15119         199.000000                   328.397625  \n",
       "\n",
       "[15120 rows x 9 columns]"
      ]
     },
     "execution_count": 7,
     "metadata": {},
     "output_type": "execute_result"
    }
   ],
   "source": [
    "train_df"
   ]
  },
  {
   "cell_type": "code",
   "execution_count": 8,
   "metadata": {},
   "outputs": [],
   "source": [
    "# Build the np arrays\n",
    "train_data = train_df.to_numpy()\n",
    "test_data = test_df.drop(columns=[\"Id\"]).to_numpy()\n",
    "train_labels = train_labels_df.to_numpy().ravel()\n",
    "\n",
    "# Shuffle the input\n",
    "shuffle = np.random.permutation(np.arange(train_data.shape[0]))\n",
    "train_data, train_labels = train_data[shuffle], train_labels[shuffle]\n",
    "\n",
    "# Set some variables to hold dev, and training data.\n",
    "dev_data, dev_labels = train_data[14000:], train_labels[14000:]\n",
    "train_data, train_labels = train_data[:14000], train_labels[:14000]"
   ]
  },
  {
   "cell_type": "code",
   "execution_count": 9,
   "metadata": {},
   "outputs": [
    {
     "name": "stdout",
     "output_type": "stream",
     "text": [
      "There are  9 features.\n",
      "[0.7245800110395837, 0.9491597866025077, 0.9849639716819096, 0.9961644182933035, 0.9998921297437651, 0.9999769040942229, 0.9999921095707669, 0.9999998051352742]\n"
     ]
    },
    {
     "data": {
      "image/png": "[encoded data removed]",
      "text/plain": [
       "<Figure size 576x360 with 1 Axes>"
      ]
     },
     "metadata": {
      "needs_background": "light"
     },
     "output_type": "display_data"
    },
    {
     "data": {
      "image/png": "[encoded data removed]",
      "text/plain": [
       "<Figure size 720x576 with 1 Axes>"
      ]
     },
     "metadata": {
      "needs_background": "light"
     },
     "output_type": "display_data"
    },
    {
     "name": "stdout",
     "output_type": "stream",
     "text": [
      "Top 10 features and their loading score influced on PC1:\n",
      "--------------------------------------------------------\n",
      "Horizontal_Distance_To_Roadways       0.810756\n",
      "Horizontal_Distance_To_Fire_Points    0.557948\n",
      "Elevation                             0.174281\n",
      "Total_Distance_to_Hydrology           0.031023\n",
      "SoilType                              0.004301\n",
      "Average_Hillshade                     0.002802\n",
      "Slope                                -0.001689\n",
      "Aspect                                0.001623\n",
      "WildernessArea                       -0.000405\n",
      "dtype: float64\n"
     ]
    }
   ],
   "source": [
    "num_features = train_df.shape[1]\n",
    "print(\"There are \", num_features, \"features.\")\n",
    "do_pca(train_data, num_features, k_principal_components = [1,2,3,4,5,6,7,8])#,10,20,30,40,50])  "
   ]
  },
  {
   "cell_type": "code",
   "execution_count": 10,
   "metadata": {},
   "outputs": [],
   "source": [
    "knn_model = KNeighborsClassifier(n_neighbors=1, metric='euclidean')\n",
    "knn_model.fit(train_data, train_labels)\n",
    "knn_predictions = knn_model.predict(test_data)\n",
    "weights = np.bincount(knn_predictions)[1:] / knn_predictions.shape[0]\n",
    "weights = dict(enumerate(weights.flatten(), 1))"
   ]
  },
  {
   "cell_type": "code",
   "execution_count": 11,
   "metadata": {},
   "outputs": [
    {
     "name": "stdout",
     "output_type": "stream",
     "text": [
      "Extra Trees Score:  0.8803571428571428\n",
      "Random Forest 10-Fold Cross Validation Scores: \n",
      "[0.74107143 0.76785714 0.70535714 0.77678571 0.76785714 0.73214286\n",
      " 0.73214286 0.71428571 0.76785714 0.75      ]\n",
      "Mean:  0.7455357142857143\n",
      "                              feature  importance\n",
      "0                           Elevation      0.2383\n",
      "5                            SoilType      0.1708\n",
      "3     Horizontal_Distance_To_Roadways      0.1145\n",
      "4  Horizontal_Distance_To_Fire_Points      0.1047\n",
      "8         Total_Distance_to_Hydrology      0.0852\n",
      "1                              Aspect      0.0846\n",
      "7                   Average_Hillshade      0.0732\n",
      "2                               Slope      0.0678\n",
      "6                      WildernessArea      0.0610\n"
     ]
    }
   ],
   "source": [
    "### Warning - this runs VERY slow with n_estimators at 1000\n",
    "ex = ExtraTreesClassifier(random_state=0, n_estimators = 1000, class_weight = weights) \n",
    "ex.fit(train_data, train_labels)\n",
    "extra_trees_score = ex.score(dev_data, dev_labels)\n",
    "print(\"Extra Trees Score: \", extra_trees_score)\n",
    "\n",
    "print(\"Random Forest 10-Fold Cross Validation Scores: \")\n",
    "extra_trees_cv_score = cross_val_score(ex, dev_data, dev_labels, cv = 10)\n",
    "print(extra_trees_cv_score)\n",
    "print(\"Mean: \", extra_trees_cv_score.mean())\n",
    "\n",
    "print_importances(ex)\n",
    "\n",
    "#### Baseline:\n",
    "# Extra Trees Score:  0.86875\n",
    "# Random Forest 10-Fold Cross Validation Scores: \n",
    "# [0.71428571 0.72321429 0.70535714 0.80357143 0.76785714 0.69642857\n",
    "#  0.69642857 0.71428571 0.73214286 0.73214286]\n",
    "# Mean:  0.7285714285714284 (Kaggle 0.75287)\n",
    "\n",
    "### Turned Wilderness and SoilType into a category:\n",
    "# Extra Trees Score:  0.875\n",
    "# Random Forest 10-Fold Cross Validation Scores: \n",
    "# [0.75892857 0.75       0.73214286 0.80357143 0.75892857 0.75\n",
    "#  0.70535714 0.70535714 0.72321429 0.76785714]\n",
    "# Mean:  0.7455357142857142  (Kaggle 0.76396)\n",
    "\n",
    "## Above + Calculating \"Average Hillshade\"\n",
    "# Extra Trees Score:  0.8955357142857143\n",
    "# Random Forest 10-Fold Cross Validation Scores: \n",
    "# [0.75       0.82142857 0.75892857 0.74107143 0.78571429 0.71428571\n",
    "#  0.75892857 0.77678571 0.76785714 0.8125    ]\n",
    "# Mean:  0.76875 (Kaggle 0.78105)\n",
    "\n",
    "## Above + \"Total Distance to Hydrology\"\n",
    "# Extra Trees Score:  0.8964285714285715\n",
    "# Random Forest 10-Fold Cross Validation Scores: \n",
    "# [0.77678571 0.75892857 0.80357143 0.73214286 0.75       0.72321429\n",
    "#  0.8125     0.77678571 0.77678571 0.78571429]\n",
    "# Mean:  0.7696428571428571 (Kaggle 0.78188)\n"
   ]
  },
  {
   "cell_type": "code",
   "execution_count": 12,
   "metadata": {},
   "outputs": [
    {
     "name": "stdout",
     "output_type": "stream",
     "text": [
      "Wrote Predictions File.\n"
     ]
    }
   ],
   "source": [
    "ex_predictions = ex.predict(test_data)\n",
    "predictions_ex = pd.DataFrame(data = ex_predictions, index = test_df.loc[:, \"Id\"], columns = [\"Cover_Type\"])\n",
    "predictions_ex.to_csv(\"ex_predictions.csv\")\n",
    "print(\"Wrote Predictions File.\")"
   ]
  }
 ],
 "metadata": {
  "kernelspec": {
   "display_name": "Python 3",
   "language": "python",
   "name": "python3"
  },
  "language_info": {
   "codemirror_mode": {
    "name": "ipython",
    "version": 3
   },
   "file_extension": ".py",
   "mimetype": "text/x-python",
   "name": "python",
   "nbconvert_exporter": "python",
   "pygments_lexer": "ipython3",
   "version": "3.7.6"
  }
 },
 "nbformat": 4,
 "nbformat_minor": 4
}