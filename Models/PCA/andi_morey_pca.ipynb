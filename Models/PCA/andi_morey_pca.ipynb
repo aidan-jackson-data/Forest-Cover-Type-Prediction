{
 "cells": [
  {
   "cell_type": "code",
   "execution_count": 1,
   "metadata": {},
   "outputs": [],
   "source": [
    "# This tells matplotlib not to try opening a new window for each plot.\n",
    "%matplotlib inline\n",
    "\n",
    "# General libraries\n",
    "import time\n",
    "import pandas as pd\n",
    "import re\n",
    "import numpy as np\n",
    "import matplotlib.pyplot as plt\n",
    "import seaborn as sns\n",
    "from matplotlib.ticker import MultipleLocator\n",
    "\n",
    "# SK-learn libraries for learning.\n",
    "from sklearn.pipeline import Pipeline\n",
    "from sklearn.neighbors import KNeighborsClassifier\n",
    "from sklearn.linear_model import LogisticRegression\n",
    "from sklearn.naive_bayes import BernoulliNB\n",
    "from sklearn.naive_bayes import MultinomialNB\n",
    "\n",
    "# SK-learn libraries for evaluation.\n",
    "from sklearn.metrics import confusion_matrix\n",
    "from sklearn import metrics\n",
    "from sklearn.metrics import classification_report\n",
    "\n",
    "# SK-learn libraries for feature extraction from text.\n",
    "from sklearn.feature_extraction.text import *\n",
    "\n",
    "from sklearn.ensemble import ExtraTreesClassifier\n",
    "from sklearn.model_selection import GridSearchCV\n",
    "from sklearn.metrics import plot_confusion_matrix\n",
    "from sklearn.model_selection import cross_val_score\n",
    "\n",
    "import nltk\n",
    "\n",
    "# Set the randomizer seed so results are the same each time.\n",
    "np.random.seed(0)\n",
    "\n",
    "data = pd.read_csv(r\"../../data/covtype.csv\")\n",
    "train_df = pd.read_csv(r\"../../data/train.csv\")\n",
    "test_df = pd.read_csv(r\"../../data/test.csv\")\n",
    "\n",
    "### Feature Engineering\n",
    "# Drop \"ID\"\n",
    "train_df = train_df.drop(columns=[\"Id\"])\n",
    "\n",
    "# Create Labels DF\n",
    "train_labels_df = train_df[[\"Cover_Type\"]]\n",
    "\n",
    "# Drop Labels\n",
    "train_df = train_df.drop(columns=[\"Cover_Type\"])\n",
    "\n",
    "# Build the np arrays\n",
    "train_data = train_df.to_numpy()\n",
    "test_data = test_df.drop(columns=[\"Id\"]).to_numpy()\n",
    "train_labels = train_labels_df.to_numpy().ravel()\n",
    "\n",
    "# Shuffle the input\n",
    "shuffle = np.random.permutation(np.arange(train_data.shape[0]))\n",
    "train_data, train_labels = train_data[shuffle], train_labels[shuffle]\n",
    "\n",
    "# Set some variables to hold dev, and training data.\n",
    "dev_data, dev_labels = train_data[14000:], train_labels[14000:]\n",
    "train_data, train_labels = train_data[:14000], train_labels[:14000]"
   ]
  },
  {
   "cell_type": "markdown",
   "metadata": {},
   "source": [
    "## PCA"
   ]
  },
  {
   "cell_type": "code",
   "execution_count": 2,
   "metadata": {},
   "outputs": [
    {
     "name": "stdout",
     "output_type": "stream",
     "text": [
      "[0.7218959054455099, 0.9477491367462696, 0.9835319135851278, 0.9946008057018806, 0.9987227195142865, 0.9999996066709803, 0.99999988079987, 0.999999968812523, 0.9999999966860198, 0.9999999999999999]\n"
     ]
    },
    {
     "data": {
      "image/png": "[encoded data removed]",
      "text/plain": [
       "<Figure size 576x360 with 1 Axes>"
      ]
     },
     "metadata": {
      "needs_background": "light"
     },
     "output_type": "display_data"
    },
    {
     "data": {
      "image/png": "[encoded data removed]",
      "text/plain": [
       "<Figure size 720x576 with 1 Axes>"
      ]
     },
     "metadata": {
      "needs_background": "light"
     },
     "output_type": "display_data"
    },
    {
     "name": "stdout",
     "output_type": "stream",
     "text": [
      "Top 10 features and their loading score influced on PC1:\n",
      "--------------------------------------------------------\n",
      "Horizontal_Distance_To_Roadways       0.812699\n",
      "Horizontal_Distance_To_Fire_Points    0.554671\n",
      "Elevation                             0.175417\n",
      "Horizontal_Distance_To_Hydrology      0.032411\n",
      "Hillshade_3pm                         0.004436\n",
      "Hillshade_Noon                        0.003504\n",
      "Aspect                                0.002003\n",
      "Slope                                -0.001723\n",
      "Hillshade_9am                         0.000678\n",
      "Vertical_Distance_To_Hydrology        0.000557\n",
      "dtype: float64\n"
     ]
    }
   ],
   "source": [
    "from sklearn.decomposition import PCA\n",
    "\n",
    "def do_pca (t_data, n, k_principal_components):\n",
    "    # Use PCA from sklearn and set number of components to the shape of the train_data feature size\n",
    "    # Fit to the Train Data and get the variance ratio\n",
    "    pca = PCA(n_components=n)\n",
    "    pca.fit(t_data)\n",
    "    explained_variance_ratio = pca.explained_variance_ratio_\n",
    "\n",
    "    # Find only the prinicpal_components ratios\n",
    "    total_variance = []\n",
    "    for k in k_principal_components:\n",
    "        total_variance_ratio = sum(explained_variance_ratio[0:k])\n",
    "        total_variance.append(total_variance_ratio)\n",
    "\n",
    "    print(total_variance)\n",
    "\n",
    "    #Plot the total variance vs. number of principal components,\n",
    "    fig = plt.figure(figsize=(8, 5))\n",
    "    ax = fig.add_subplot(1, 1, 1)\n",
    "    plt.plot(k_principal_components,total_variance)\n",
    "    plt.ylabel(\"Fraction of Total Variance\")\n",
    "    plt.xlabel(\"Number of Principal Components\")\n",
    "    plt.title(\"Total Variance vs. Num of Principal Components\")\n",
    "    plt.show()  \n",
    "\n",
    "\n",
    "    ##########################\n",
    "    # Draw a scree plot\n",
    "    #########################\n",
    "\n",
    "    #The following code constructs the Scree plot\n",
    "    per_var = np.round(pca.explained_variance_ratio_* 100, decimals=1)\n",
    "    per_var = per_var[per_var > 2]\n",
    "    labels = ['PC' + str(x) for x in range(1, len(per_var)+1)]\n",
    "\n",
    "    fig = plt.figure(figsize=(10,8))\n",
    "    plt.bar(x=range(1,len(per_var)+1), height=per_var, tick_label=labels)\n",
    "    plt.ylabel('Percentage of Explained Variance')\n",
    "    plt.xlabel('Principal Component')\n",
    "    plt.title('Scree Plot of PCs with 2% or more Explained Variance')\n",
    "    plt.show()\n",
    "\n",
    "    #########################\n",
    "    # Determine which feature had the biggest influence on PC1\n",
    "    #########################\n",
    "    ## first, get the loading scores\n",
    "    loading_scores = pd.Series(pca.components_[0], index=train_df.columns)\n",
    "    ## now sort the loading scores based on their magnitude\n",
    "    sorted_loading_scores = loading_scores.abs().sort_values(ascending=False)\n",
    "    ## get the names of the top 10 features\n",
    "    top_10 = sorted_loading_scores[0:10].index.values\n",
    "    ## print the gene names and their scores (and +/- sign)\n",
    "    print(\"Top 10 features and their loading score influced on PC1:\")\n",
    "    print(\"--------------------------------------------------------\")\n",
    "    print(loading_scores[top_10])\n",
    "\n",
    "    return\n",
    "\n",
    "def print_importances(clf):\n",
    "    importances = np.round(clf.feature_importances_,4)\n",
    "    features = train_df.columns.to_numpy()\n",
    "    importances_df = pd.DataFrame({'feature':features,'importance':importances})\n",
    "    importances_df = importances_df.sort_values('importance',ascending=False)\n",
    "    importances_df = importances_df[(importances_df.sum(axis=1) != 0)]  \n",
    "    print(importances_df)\n",
    "\n",
    "do_pca(train_data, 54, k_principal_components = [1,2,3,4,5,10,20,30,40,50])\n"
   ]
  },
  {
   "cell_type": "markdown",
   "metadata": {},
   "source": [
    "### Feature Engineering"
   ]
  },
  {
   "cell_type": "code",
   "execution_count": 3,
   "metadata": {},
   "outputs": [],
   "source": [
    "data = pd.read_csv(r\"../../data/covtype.csv\")\n",
    "train_df = pd.read_csv(r\"../../data/train.csv\")\n",
    "test_df = pd.read_csv(r\"../../data/test.csv\")\n",
    "\n",
    "### Feature Engineering\n",
    "# Drop \"ID\"\n",
    "train_df = train_df.drop(columns=[\"Id\"])\n",
    "\n",
    "# Create Labels DF\n",
    "train_labels_df = train_df[[\"Cover_Type\"]]\n",
    "\n",
    "# write labels to csv\n",
    "train_labels_df.to_csv(\"train_labels.csv\", index = False)\n",
    "\n",
    "# Drop Labels\n",
    "train_df = train_df.drop(columns=[\"Cover_Type\"])"
   ]
  },
  {
   "cell_type": "code",
   "execution_count": 4,
   "metadata": {},
   "outputs": [
    {
     "name": "stdout",
     "output_type": "stream",
     "text": [
      "Converted soil types and wilderness areas\n"
     ]
    }
   ],
   "source": [
    "def convert_soil_types_to_categorical(df):\n",
    "\n",
    "    df[\"SoilType\"] = 0\n",
    "    columns = list(df)\n",
    "\n",
    "    for col_name in columns:\n",
    "        soil_type = 0\n",
    "        if col_name[0:9] == 'Soil_Type':\n",
    "            soil_type = int(col_name[9:])\n",
    "            df[\"SoilType\"] = df[\"SoilType\"] + df[col_name]*soil_type\n",
    "            df = df.drop(columns=[col_name])\n",
    "            \n",
    "    return df          \n",
    "            \n",
    "def convert_wilderness_areas_to_categorical(df):\n",
    "\n",
    "    df[\"WildernessArea\"] = 0\n",
    "    columns = list(df)\n",
    "\n",
    "    for col_name in columns:\n",
    "        wild_area = 0\n",
    "        if col_name[0:15] == 'Wilderness_Area':\n",
    "            wild_area = int(col_name[15:])\n",
    "            df[\"WildernessArea\"] = df[\"WildernessArea\"] + df[col_name]*wild_area\n",
    "\n",
    "    for col_name in columns:\n",
    "        if col_name[0:15] == 'Wilderness_Area':\n",
    "            df = df.drop(columns=[col_name])\n",
    "\n",
    "    return df\n",
    "\n",
    "train_df = convert_soil_types_to_categorical(train_df)\n",
    "test_df = convert_soil_types_to_categorical(test_df)\n",
    "\n",
    "train_df = convert_wilderness_areas_to_categorical(train_df)\n",
    "test_df = convert_wilderness_areas_to_categorical(test_df)\n",
    "\n",
    "train_df.to_csv(\"soil_wild_convert_train.csv\", index = False)\n",
    "test_df.to_csv(\"soil_wild_convert_test.csv\", index = False)\n",
    "\n",
    "print(\"Converted soil types and wilderness areas\")"
   ]
  },
  {
   "cell_type": "code",
   "execution_count": 5,
   "metadata": {},
   "outputs": [
    {
     "name": "stdout",
     "output_type": "stream",
     "text": [
      "Converted Hillshade to average\n"
     ]
    }
   ],
   "source": [
    "train_df = pd.read_csv(r\"soil_wild_convert_train.csv\")\n",
    "test_df = pd.read_csv(r\"soil_wild_convert_test.csv\")\n",
    "\n",
    "train_df['Average_Hillshade'] = ((train_df['Hillshade_9am']**2 +\n",
    "                                 train_df['Hillshade_9am']**2 + train_df['Hillshade_9am']**2)/3)**0.5\n",
    "\n",
    "test_df['Average_Hillshade'] = ((test_df['Hillshade_9am']**2 +\n",
    "                                 test_df['Hillshade_9am']**2 + test_df['Hillshade_9am']**2)/3)**0.5\n",
    "\n",
    "train_df = train_df.drop(columns=[\"Hillshade_9am\"])\n",
    "train_df = train_df.drop(columns=[\"Hillshade_Noon\"])\n",
    "train_df = train_df.drop(columns=[\"Hillshade_3pm\"])\n",
    "test_df = test_df.drop(columns=[\"Hillshade_9am\"])\n",
    "test_df = test_df.drop(columns=[\"Hillshade_Noon\"])\n",
    "test_df = test_df.drop(columns=[\"Hillshade_3pm\"])\n",
    "\n",
    "train_df.to_csv(\"hillshade_avg_convert_train.csv\", index = False)\n",
    "test_df.to_csv(\"hillshade_avg_convert_test.csv\", index = False)\n",
    "\n",
    "print(\"Converted Hillshade to average\")"
   ]
  },
  {
   "cell_type": "code",
   "execution_count": 6,
   "metadata": {},
   "outputs": [
    {
     "name": "stdout",
     "output_type": "stream",
     "text": [
      "Converted Distance to Hydrology\n"
     ]
    }
   ],
   "source": [
    "train_df = pd.read_csv(r\"hillshade_avg_convert_train.csv\")\n",
    "test_df = pd.read_csv(r\"hillshade_avg_convert_test.csv\")\n",
    "\n",
    "train_df['Total_Distance_to_Hydrology'] = (train_df['Horizontal_Distance_To_Hydrology']**2 + \n",
    "                                           train_df['Vertical_Distance_To_Hydrology']**2)**0.5\n",
    "test_df['Total_Distance_to_Hydrology'] = (test_df['Horizontal_Distance_To_Hydrology']**2 + \n",
    "                                          test_df['Vertical_Distance_To_Hydrology']**2)**0.5\n",
    "\n",
    "train_df['Total_Distance_to_Hydrology'] = ((train_df['Total_Distance_to_Hydrology'] - train_df['Total_Distance_to_Hydrology'].min()) /\n",
    "                (train_df['Total_Distance_to_Hydrology'].max() - train_df['Total_Distance_to_Hydrology'].min()))\n",
    "\n",
    "test_df['Total_Distance_to_Hydrology'] = ((test_df['Total_Distance_to_Hydrology'] - test_df['Total_Distance_to_Hydrology'].min()) /\n",
    "                 (test_df['Total_Distance_to_Hydrology'].max() - test_df['Total_Distance_to_Hydrology'].min()))\n",
    "\n",
    "\n",
    "train_df = train_df.drop(columns=[\"Horizontal_Distance_To_Hydrology\"])\n",
    "train_df = train_df.drop(columns=[\"Vertical_Distance_To_Hydrology\"])\n",
    "test_df = test_df.drop(columns=[\"Horizontal_Distance_To_Hydrology\"])\n",
    "test_df = test_df.drop(columns=[\"Vertical_Distance_To_Hydrology\"])\n",
    "\n",
    "train_df.to_csv(\"total_distance_convert_train.csv\", index = False)\n",
    "test_df.to_csv(\"total_distance_convert_test.csv\", index = False)\n",
    "\n",
    "print(\"Converted Distance to Hydrology\")"
   ]
  },
  {
   "cell_type": "code",
   "execution_count": 7,
   "metadata": {},
   "outputs": [
    {
     "name": "stdout",
     "output_type": "stream",
     "text": [
      "Converted all Distance/Elevation Measures to be Normal\n"
     ]
    }
   ],
   "source": [
    "train_df = pd.read_csv(r\"total_distance_convert_train.csv\")\n",
    "test_df = pd.read_csv(r\"total_distance_convert_test.csv\")\n",
    "\n",
    "train_df['Roadway_Distance_Normal'] = ((train_df['Horizontal_Distance_To_Roadways'] - train_df['Horizontal_Distance_To_Roadways'].min()) /\n",
    "                (train_df['Horizontal_Distance_To_Roadways'].max() - train_df['Horizontal_Distance_To_Roadways'].min()))\n",
    "\n",
    "test_df['Roadway_Distance_Normal'] = ((test_df['Horizontal_Distance_To_Roadways'] - test_df['Horizontal_Distance_To_Roadways'].min()) /\n",
    "                 (test_df['Horizontal_Distance_To_Roadways'].max() - test_df['Horizontal_Distance_To_Roadways'].min()))\n",
    "\n",
    "train_df = train_df.drop(columns=[\"Horizontal_Distance_To_Roadways\"])\n",
    "test_df = test_df.drop(columns=[\"Horizontal_Distance_To_Roadways\"])\n",
    "\n",
    "train_df['Fire_Points_Distance_Normal'] = ((train_df['Horizontal_Distance_To_Fire_Points'] - train_df['Horizontal_Distance_To_Fire_Points'].min()) /\n",
    "                (train_df['Horizontal_Distance_To_Fire_Points'].max() - train_df['Horizontal_Distance_To_Fire_Points'].min()))\n",
    "\n",
    "test_df['Fire_Points_Distance_Normal'] = ((test_df['Horizontal_Distance_To_Fire_Points'] - test_df['Horizontal_Distance_To_Fire_Points'].min()) /\n",
    "                 (test_df['Horizontal_Distance_To_Fire_Points'].max() - test_df['Horizontal_Distance_To_Fire_Points'].min()))\n",
    "\n",
    "train_df = train_df.drop(columns=[\"Horizontal_Distance_To_Fire_Points\"])\n",
    "test_df = test_df.drop(columns=[\"Horizontal_Distance_To_Fire_Points\"])\n",
    "\n",
    "train_df['Elevation_Normal'] = ((train_df['Elevation'] - train_df['Elevation'].min()) /\n",
    "                (train_df['Elevation'].max() - train_df['Elevation'].min()))\n",
    "\n",
    "test_df['Elevation_Normal'] = ((test_df['Elevation'] - test_df['Elevation'].min()) /\n",
    "                 (test_df['Elevation'].max() - test_df['Elevation'].min()))\n",
    "\n",
    "train_df = train_df.drop(columns=[\"Elevation\"])\n",
    "test_df = test_df.drop(columns=[\"Elevation\"])\n",
    "\n",
    "train_df.to_csv(\"distance_normal_train.csv\", index = False)\n",
    "test_df.to_csv(\"distance_normal_test.csv\", index = False)\n",
    "\n",
    "print(\"Converted all Distance/Elevation Measures to be Normal\")"
   ]
  },
  {
   "cell_type": "code",
   "execution_count": 8,
   "metadata": {},
   "outputs": [
    {
     "data": {
      "text/html": [
       "<div>\n",
       "<style scoped>\n",
       "    .dataframe tbody tr th:only-of-type {\n",
       "        vertical-align: middle;\n",
       "    }\n",
       "\n",
       "    .dataframe tbody tr th {\n",
       "        vertical-align: top;\n",
       "    }\n",
       "\n",
       "    .dataframe thead th {\n",
       "        text-align: right;\n",
       "    }\n",
       "</style>\n",
       "<table border=\"1\" class=\"dataframe\">\n",
       "  <thead>\n",
       "    <tr style=\"text-align: right;\">\n",
       "      <th></th>\n",
       "      <th>Aspect</th>\n",
       "      <th>Slope</th>\n",
       "      <th>SoilType</th>\n",
       "      <th>WildernessArea</th>\n",
       "      <th>Average_Hillshade</th>\n",
       "      <th>Total_Distance_to_Hydrology</th>\n",
       "      <th>Roadway_Distance_Normal</th>\n",
       "      <th>Fire_Points_Distance_Normal</th>\n",
       "      <th>Elevation_Normal</th>\n",
       "    </tr>\n",
       "  </thead>\n",
       "  <tbody>\n",
       "    <tr>\n",
       "      <th>0</th>\n",
       "      <td>51</td>\n",
       "      <td>3</td>\n",
       "      <td>29</td>\n",
       "      <td>1</td>\n",
       "      <td>221.0</td>\n",
       "      <td>0.190134</td>\n",
       "      <td>0.074020</td>\n",
       "      <td>0.897898</td>\n",
       "      <td>0.369084</td>\n",
       "    </tr>\n",
       "    <tr>\n",
       "      <th>1</th>\n",
       "      <td>56</td>\n",
       "      <td>2</td>\n",
       "      <td>29</td>\n",
       "      <td>1</td>\n",
       "      <td>220.0</td>\n",
       "      <td>0.156296</td>\n",
       "      <td>0.056604</td>\n",
       "      <td>0.890176</td>\n",
       "      <td>0.366062</td>\n",
       "    </tr>\n",
       "    <tr>\n",
       "      <th>2</th>\n",
       "      <td>139</td>\n",
       "      <td>9</td>\n",
       "      <td>12</td>\n",
       "      <td>1</td>\n",
       "      <td>234.0</td>\n",
       "      <td>0.203229</td>\n",
       "      <td>0.461538</td>\n",
       "      <td>0.875304</td>\n",
       "      <td>0.473817</td>\n",
       "    </tr>\n",
       "    <tr>\n",
       "      <th>3</th>\n",
       "      <td>155</td>\n",
       "      <td>18</td>\n",
       "      <td>30</td>\n",
       "      <td>1</td>\n",
       "      <td>238.0</td>\n",
       "      <td>0.198414</td>\n",
       "      <td>0.448476</td>\n",
       "      <td>0.888174</td>\n",
       "      <td>0.464250</td>\n",
       "    </tr>\n",
       "    <tr>\n",
       "      <th>4</th>\n",
       "      <td>45</td>\n",
       "      <td>2</td>\n",
       "      <td>29</td>\n",
       "      <td>1</td>\n",
       "      <td>220.0</td>\n",
       "      <td>0.112756</td>\n",
       "      <td>0.056749</td>\n",
       "      <td>0.882597</td>\n",
       "      <td>0.368580</td>\n",
       "    </tr>\n",
       "    <tr>\n",
       "      <th>...</th>\n",
       "      <td>...</td>\n",
       "      <td>...</td>\n",
       "      <td>...</td>\n",
       "      <td>...</td>\n",
       "      <td>...</td>\n",
       "      <td>...</td>\n",
       "      <td>...</td>\n",
       "      <td>...</td>\n",
       "      <td>...</td>\n",
       "    </tr>\n",
       "    <tr>\n",
       "      <th>15115</th>\n",
       "      <td>243</td>\n",
       "      <td>23</td>\n",
       "      <td>4</td>\n",
       "      <td>3</td>\n",
       "      <td>170.0</td>\n",
       "      <td>0.190204</td>\n",
       "      <td>0.095791</td>\n",
       "      <td>0.183326</td>\n",
       "      <td>0.374622</td>\n",
       "    </tr>\n",
       "    <tr>\n",
       "      <th>15116</th>\n",
       "      <td>121</td>\n",
       "      <td>19</td>\n",
       "      <td>4</td>\n",
       "      <td>3</td>\n",
       "      <td>249.0</td>\n",
       "      <td>0.488124</td>\n",
       "      <td>0.089695</td>\n",
       "      <td>0.189475</td>\n",
       "      <td>0.372608</td>\n",
       "    </tr>\n",
       "    <tr>\n",
       "      <th>15117</th>\n",
       "      <td>134</td>\n",
       "      <td>25</td>\n",
       "      <td>4</td>\n",
       "      <td>3</td>\n",
       "      <td>250.0</td>\n",
       "      <td>0.282469</td>\n",
       "      <td>0.048621</td>\n",
       "      <td>0.169741</td>\n",
       "      <td>0.316717</td>\n",
       "    </tr>\n",
       "    <tr>\n",
       "      <th>15118</th>\n",
       "      <td>167</td>\n",
       "      <td>28</td>\n",
       "      <td>4</td>\n",
       "      <td>3</td>\n",
       "      <td>229.0</td>\n",
       "      <td>0.177060</td>\n",
       "      <td>0.035123</td>\n",
       "      <td>0.133276</td>\n",
       "      <td>0.314199</td>\n",
       "    </tr>\n",
       "    <tr>\n",
       "      <th>15119</th>\n",
       "      <td>197</td>\n",
       "      <td>34</td>\n",
       "      <td>2</td>\n",
       "      <td>3</td>\n",
       "      <td>189.0</td>\n",
       "      <td>0.242013</td>\n",
       "      <td>0.039187</td>\n",
       "      <td>0.130702</td>\n",
       "      <td>0.308157</td>\n",
       "    </tr>\n",
       "  </tbody>\n",
       "</table>\n",
       "<p>15120 rows × 9 columns</p>\n",
       "</div>"
      ],
      "text/plain": [
       "       Aspect  Slope  SoilType  WildernessArea  Average_Hillshade  \\\n",
       "0          51      3        29               1              221.0   \n",
       "1          56      2        29               1              220.0   \n",
       "2         139      9        12               1              234.0   \n",
       "3         155     18        30               1              238.0   \n",
       "4          45      2        29               1              220.0   \n",
       "...       ...    ...       ...             ...                ...   \n",
       "15115     243     23         4               3              170.0   \n",
       "15116     121     19         4               3              249.0   \n",
       "15117     134     25         4               3              250.0   \n",
       "15118     167     28         4               3              229.0   \n",
       "15119     197     34         2               3              189.0   \n",
       "\n",
       "       Total_Distance_to_Hydrology  Roadway_Distance_Normal  \\\n",
       "0                         0.190134                 0.074020   \n",
       "1                         0.156296                 0.056604   \n",
       "2                         0.203229                 0.461538   \n",
       "3                         0.198414                 0.448476   \n",
       "4                         0.112756                 0.056749   \n",
       "...                            ...                      ...   \n",
       "15115                     0.190204                 0.095791   \n",
       "15116                     0.488124                 0.089695   \n",
       "15117                     0.282469                 0.048621   \n",
       "15118                     0.177060                 0.035123   \n",
       "15119                     0.242013                 0.039187   \n",
       "\n",
       "       Fire_Points_Distance_Normal  Elevation_Normal  \n",
       "0                         0.897898          0.369084  \n",
       "1                         0.890176          0.366062  \n",
       "2                         0.875304          0.473817  \n",
       "3                         0.888174          0.464250  \n",
       "4                         0.882597          0.368580  \n",
       "...                            ...               ...  \n",
       "15115                     0.183326          0.374622  \n",
       "15116                     0.189475          0.372608  \n",
       "15117                     0.169741          0.316717  \n",
       "15118                     0.133276          0.314199  \n",
       "15119                     0.130702          0.308157  \n",
       "\n",
       "[15120 rows x 9 columns]"
      ]
     },
     "execution_count": 8,
     "metadata": {},
     "output_type": "execute_result"
    }
   ],
   "source": [
    "train_df"
   ]
  },
  {
   "cell_type": "code",
   "execution_count": 9,
   "metadata": {},
   "outputs": [],
   "source": [
    "# Build the np arrays\n",
    "train_data = train_df.to_numpy()\n",
    "test_data = test_df.drop(columns=[\"Id\"]).to_numpy()\n",
    "train_labels = train_labels_df.to_numpy().ravel()\n",
    "\n",
    "# Shuffle the input\n",
    "shuffle = np.random.permutation(np.arange(train_data.shape[0]))\n",
    "train_data, train_labels = train_data[shuffle], train_labels[shuffle]\n",
    "\n",
    "# Set some variables to hold dev, and training data.\n",
    "dev_data, dev_labels = train_data[14000:], train_labels[14000:]\n",
    "train_data, train_labels = train_data[:14000], train_labels[:14000]"
   ]
  },
  {
   "cell_type": "code",
   "execution_count": 10,
   "metadata": {},
   "outputs": [
    {
     "name": "stdout",
     "output_type": "stream",
     "text": [
      "There are  9 features.\n",
      "[0.9387579031761545, 0.9828863986537828, 0.9953507073782343, 0.9999355807548829, 0.9999940572871332, 0.9999966271536253, 0.9999983240960609, 0.9999993875965186]\n"
     ]
    },
    {
     "data": {
      "image/png": "[encoded data removed]",
      "text/plain": [
       "<Figure size 576x360 with 1 Axes>"
      ]
     },
     "metadata": {
      "needs_background": "light"
     },
     "output_type": "display_data"
    },
    {
     "data": {
      "image/png": "[encoded data removed]",
      "text/plain": [
       "<Figure size 720x576 with 1 Axes>"
      ]
     },
     "metadata": {
      "needs_background": "light"
     },
     "output_type": "display_data"
    },
    {
     "name": "stdout",
     "output_type": "stream",
     "text": [
      "Top 10 features and their loading score influced on PC1:\n",
      "--------------------------------------------------------\n",
      "Aspect                         0.985628\n",
      "Average_Hillshade             -0.168901\n",
      "Slope                          0.002504\n",
      "SoilType                      -0.001608\n",
      "WildernessArea                 0.001319\n",
      "Roadway_Distance_Normal        0.000104\n",
      "Fire_Points_Distance_Normal   -0.000076\n",
      "Total_Distance_to_Hydrology    0.000060\n",
      "Elevation_Normal              -0.000030\n",
      "dtype: float64\n"
     ]
    }
   ],
   "source": [
    "num_features = train_df.shape[1]\n",
    "print(\"There are \", num_features, \"features.\")\n",
    "do_pca(train_data, num_features, k_principal_components = [1,2,3,4,5,6,7,8])#,10,20,30,40,50])  "
   ]
  },
  {
   "cell_type": "code",
   "execution_count": 11,
   "metadata": {},
   "outputs": [],
   "source": [
    "# knn_model = KNeighborsClassifier(n_neighbors=1, metric='euclidean')\n",
    "# knn_model.fit(train_data, train_labels)\n",
    "# knn_predictions = knn_model.predict(test_data)\n",
    "# weights = np.bincount(knn_predictions)[1:] / knn_predictions.shape[0]\n",
    "# weights = dict(enumerate(weights.flatten(), 1))\n",
    "# Save this method for hyper parameter tuning.... Andi"
   ]
  },
  {
   "cell_type": "code",
   "execution_count": 12,
   "metadata": {},
   "outputs": [
    {
     "name": "stdout",
     "output_type": "stream",
     "text": [
      "Extra Trees Score:  0.8839285714285714\n",
      "Random Forest 10-Fold Cross Validation Scores: \n",
      "[0.75       0.72321429 0.71428571 0.78571429 0.78571429 0.75\n",
      " 0.69642857 0.74107143 0.73214286 0.74107143]\n",
      "Mean:  0.7419642857142856\n",
      "                       feature  importance\n",
      "8             Elevation_Normal      0.2439\n",
      "2                     SoilType      0.1987\n",
      "6      Roadway_Distance_Normal      0.1043\n",
      "7  Fire_Points_Distance_Normal      0.0887\n",
      "3               WildernessArea      0.0869\n",
      "5  Total_Distance_to_Hydrology      0.0837\n",
      "0                       Aspect      0.0733\n",
      "4            Average_Hillshade      0.0665\n",
      "1                        Slope      0.0541\n"
     ]
    }
   ],
   "source": [
    "### Warning - this runs VERY slow with n_estimators at 1000 --> Changing to 100\n",
    "ex = ExtraTreesClassifier(random_state=0, n_estimators = 100)\n",
    "ex.fit(train_data, train_labels)\n",
    "extra_trees_score = ex.score(dev_data, dev_labels)\n",
    "print(\"Extra Trees Score: \", extra_trees_score)\n",
    "\n",
    "print(\"Random Forest 10-Fold Cross Validation Scores: \")\n",
    "extra_trees_cv_score = cross_val_score(ex, dev_data, dev_labels, cv = 10)\n",
    "print(extra_trees_cv_score)\n",
    "print(\"Mean: \", extra_trees_cv_score.mean())\n",
    "\n",
    "print_importances(ex)\n",
    "\n",
    "#### Baseline:\n",
    "# Extra Trees Score:  0.86875\n",
    "# [0.71428571 0.72321429 0.70535714 0.80357143 0.76785714 0.69642857 0.69642857 0.71428571 0.73214286 0.73214286]\n",
    "# Mean:  0.7285714285714284 (Kaggle 0.75287)\n",
    "\n",
    "### Turned Wilderness and SoilType into a category:\n",
    "# Extra Trees Score:  0.875\n",
    "# [0.75892857 0.75       0.73214286 0.80357143 0.75892857 0.75  0.70535714 0.70535714 0.72321429 0.76785714]\n",
    "# Mean:  0.7455357142857142  (Kaggle 0.76396)\n",
    "\n",
    "## Above + Calculating \"Average Hillshade\"\n",
    "# Extra Trees Score:  0.8955357142857143\n",
    "# [0.75       0.82142857 0.75892857 0.74107143 0.78571429 0.71428571  0.75892857 0.77678571 0.76785714 0.8125    ]\n",
    "# Mean:  0.76875 (Kaggle 0.78105)\n",
    "\n",
    "## Above + \"Total Distance to Hydrology\"\n",
    "# Extra Trees Score:  0.8964285714285715\n",
    "# [0.77678571 0.75892857 0.80357143 0.73214286 0.75       0.72321429  0.8125     0.77678571 0.77678571 0.78571429]\n",
    "# Mean:  0.7696428571428571 (Kaggle 0.78188)\n"
   ]
  },
  {
   "cell_type": "code",
   "execution_count": 13,
   "metadata": {},
   "outputs": [
    {
     "name": "stdout",
     "output_type": "stream",
     "text": [
      "Wrote Predictions File.\n"
     ]
    }
   ],
   "source": [
    "ex_predictions = ex.predict(test_data)\n",
    "predictions_ex = pd.DataFrame(data = ex_predictions, index = test_df.loc[:, \"Id\"], columns = [\"Cover_Type\"])\n",
    "predictions_ex.to_csv(\"ex_predictions.csv\")\n",
    "print(\"Wrote Predictions File.\")"
   ]
  }
 ],
 "metadata": {
  "kernelspec": {
   "display_name": "Python 3",
   "language": "python",
   "name": "python3"
  },
  "language_info": {
   "codemirror_mode": {
    "name": "ipython",
    "version": 3
   },
   "file_extension": ".py",
   "mimetype": "text/x-python",
   "name": "python",
   "nbconvert_exporter": "python",
   "pygments_lexer": "ipython3",
   "version": "3.7.6"
  }
 },
 "nbformat": 4,
 "nbformat_minor": 4
}